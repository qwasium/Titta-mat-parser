{
 "cells": [
  {
   "cell_type": "markdown",
   "metadata": {},
   "source": [
    "# readme demo\n",
    "\n",
    "Demo script for GNU Octave.\n",
    "\n",
    "Tested environment:\n",
    "- GNU Octave 6.4.0\n",
    "- octave-kernel 0.35.1\n",
    "- io 2.6.4\n",
    "- Ubuntu 22.04 LTS\n",
    "\n",
    "Dependencies\n",
    "- [io package](https://gnu-octave.github.io/packages/io/)\n",
    "- [jupyter-notebook](https://gnu-octave.github.io/packages/jupyter-notebook/)(optional; only if you want to run this script in GNU Octave)\n",
    "\n",
    "\n",
    "You will need to install the [octave kernel for jupyter](https://pypi.org/project/octave-kernel/0.14.2/):\n",
    "```bash\n",
    "pip install octave_kernel\n",
    "```\n",
    "\n",
    "---"
   ]
  },
  {
   "cell_type": "code",
   "execution_count": null,
   "metadata": {},
   "outputs": [],
   "source": [
    "clear"
   ]
  },
  {
   "cell_type": "markdown",
   "metadata": {},
   "source": [
    "## Setup directories"
   ]
  },
  {
   "cell_type": "code",
   "execution_count": null,
   "metadata": {},
   "outputs": [],
   "source": [
    "scriptDir = pwd % set this to the directory where this script is located\n",
    "cd(scriptDir)\n",
    "cd data\n",
    "dataDir = pwd\n",
    "cd(scriptDir)\n",
    "cd keyMap\n",
    "keyMapDir = pwd\n",
    "cd(scriptDir)\n",
    "cd output\n",
    "outDir = pwd\n",
    "cd ../..\n",
    "homeDir = pwd\n",
    "\n",
    "addpath(genpath(homeDir))"
   ]
  },
  {
   "cell_type": "markdown",
   "metadata": {},
   "source": [
    "## Load data\n",
    "\n",
    "Here the mat file `data.mat` is the export from Titta."
   ]
  },
  {
   "cell_type": "code",
   "execution_count": null,
   "metadata": {},
   "outputs": [],
   "source": [
    "cd(dataDir);\n",
    "matFname = \"data.mat\";\n",
    "tittaMat = load(\"-v7\", matFname);"
   ]
  },
  {
   "cell_type": "markdown",
   "metadata": {},
   "source": [
    "## Load key map\n",
    "\n",
    "`keyMap` has to be in the format: `keyMap = {key1: value1, key2: value2, ...}`(in python-like notation).\n",
    "\n",
    "The key is hardcoded in the script and must match. The value is user-defined.\n",
    "\n",
    "Here, we will import from a csv file.\n",
    "\n",
    "We assume that there are no different values for the same key."
   ]
  },
  {
   "cell_type": "code",
   "execution_count": null,
   "metadata": {},
   "outputs": [],
   "source": [
    "cd(dataDir)\n",
    "keyMapFile = fopen('keymap_snake_case.csv');\n",
    "keyMapTxt = textscan(keyMapFile, '%s%s', 'Delimiter', ',');\n",
    "fclose(keyMapFile);\n",
    "keyMap = containers.Map(keyMapTxt{1}, keyMapTxt{2});"
   ]
  },
  {
   "cell_type": "markdown",
   "metadata": {},
   "source": [
    "## Create instance and run\n",
    "\n",
    "Call the `Titta2delim` constructor with the following arguments:\n",
    "- `tittaMat`: the mat file exported from Titta\n",
    "- `keyMap`: the key map\n",
    "\n",
    "You can add or overwrite `keyMap` after the instance is created using `addKeymap(keyMap)` method.\n",
    "\n",
    "Call `main()` method to run the script."
   ]
  },
  {
   "cell_type": "code",
   "execution_count": null,
   "metadata": {},
   "outputs": [],
   "source": [
    "data = titta2delim(tittaMat, keyMap);\n",
    "data.main()"
   ]
  },
  {
   "cell_type": "markdown",
   "metadata": {},
   "source": [
    "### Customize for your own needs\n",
    "\n",
    "You can customize the script for your own needs by inheritance/polymorphism.\n",
    "\n",
    "For this demo, we have a `customExport` class that inherits from `Titta2delim`.\n",
    "\n",
    "See `./customExport.m` for details."
   ]
  },
  {
   "cell_type": "code",
   "execution_count": null,
   "metadata": {},
   "outputs": [],
   "source": [
    "customData = customExport(tittaMat, keyMap);\n",
    "customData.main()"
   ]
  },
  {
   "cell_type": "markdown",
   "metadata": {},
   "source": [
    "### Export to csv\n",
    "\n",
    "In Octave, Table is not implemented so all the properties that are table in Matlab are struct in Octave.\n",
    "\n",
    "Here, we will create a simple function to export struct to csv file.\n",
    "\n",
    "This function is slow so optimize it depending on your need."
   ]
  },
  {
   "cell_type": "code",
   "execution_count": null,
   "metadata": {},
   "outputs": [],
   "source": [
    "pkg load io\n",
    "\n",
    "function struct2csv(inputStruct, fileName)\n",
    "    outputCell = {};\n",
    "    header = fieldnames(inputStruct);\n",
    "    for i = 1:numel(header)\n",
    "        outputCell = [outputCell inputStruct.(header{i})];\n",
    "    end\n",
    "    outputCell = [header'; outputCell];\n",
    "    cell2csv(fileName, outputCell);\n",
    "end"
   ]
  },
  {
   "cell_type": "markdown",
   "metadata": {},
   "source": [
    "`TobiiLog` and `notifications` are not parsed in the script, therefore we export them differently."
   ]
  },
  {
   "cell_type": "code",
   "execution_count": null,
   "metadata": {},
   "outputs": [],
   "source": [
    "cd(outDir)\n",
    "struct2csv(data.sessionInfo, 'sessionInfo.csv');\n",
    "struct2csv(data.timeSeries, 'timeSeries.csv');\n",
    "struct2csv(data.messages, 'messages.csv');\n",
    "cell2csv('TobiiLog.csv', [fieldnames(data.TobiiLog) struct2cell(data.TobiiLog(:))]');\n",
    "cell2csv('notifications.csv', [fieldnames(data.notifications) struct2cell(data.notifications(:))]');"
   ]
  },
  {
   "cell_type": "markdown",
   "metadata": {},
   "source": [
    "### clean up"
   ]
  },
  {
   "cell_type": "code",
   "execution_count": null,
   "metadata": {},
   "outputs": [],
   "source": [
    "rmpath(genpath(homeDir))"
   ]
  }
 ],
 "metadata": {
  "kernelspec": {
   "display_name": "Octave",
   "language": "octave",
   "name": "octave"
  },
  "language_info": {
   "file_extension": ".m",
   "help_links": [
    {
     "text": "GNU Octave",
     "url": "https://www.gnu.org/software/octave/support.html"
    },
    {
     "text": "Octave Kernel",
     "url": "https://github.com/Calysto/octave_kernel"
    },
    {
     "text": "MetaKernel Magics",
     "url": "https://metakernel.readthedocs.io/en/latest/source/README.html"
    }
   ],
   "mimetype": "text/x-octave",
   "name": "octave",
   "version": "6.4.0"
  }
 },
 "nbformat": 4,
 "nbformat_minor": 4
}
